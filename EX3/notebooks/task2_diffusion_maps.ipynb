{
 "cells": [
  {
   "cell_type": "code",
   "execution_count": null,
   "metadata": {},
   "outputs": [],
   "source": [
    "import init_notebook"
   ]
  },
  {
   "cell_type": "markdown",
   "metadata": {},
   "source": [
    "# Task 2 - Diffusion Maps\n",
    "\n",
    "This task focuses on dimensionality reduction using diffusion maps."
   ]
  },
  {
   "cell_type": "code",
   "execution_count": null,
   "metadata": {},
   "outputs": [],
   "source": [
    "%load_ext autoreload\n",
    "%autoreload 2\n",
    "import numpy as np\n",
    "import math as m\n",
    "import matplotlib.pyplot as plt\n",
    "from difusion_maps import diffusion_map\n",
    "from sklearn.datasets import make_swiss_roll\n",
    "from mpl_toolkits.mplot3d import Axes3D  # For 3D plotting\n",
    "import pandas as pd\n"
   ]
  },
  {
   "cell_type": "markdown",
   "metadata": {},
   "source": [
    "## Part 1\n",
    "In this part of the task a dataset is created with the following formula:\n",
    "$$\n",
    "X = \\{x_k\\in \\R^2\\}_{k=1}^{N} \\\\\n",
    "$$\n",
    "$$\n",
    "x_k = (\\cos(t_k), \\sin(t_k)) \\\\\n",
    "$$\n",
    "$$\n",
    "t_k = \\frac{2\\pi k}{N+1}\n",
    "$$"
   ]
  },
  {
   "cell_type": "code",
   "execution_count": null,
   "metadata": {},
   "outputs": [],
   "source": [
    "N = 1000\n",
    "\n",
    "def t(k: int) -> float:\n",
    "    return (2 * m.pi * k) / (N + 1)\n",
    "\n",
    "t_values = np.array([t(k) for k in range(N)], dtype=np.float64)\n",
    "\n",
    "data_x = np.cos(t_values)\n",
    "data_y = np.sin(t_values)\n",
    "\n",
    "data = np.dstack((data_x, data_y))[0]\n",
    "plt.plot(data_x, data_y)\n",
    "plt.title(f\"Part 1 data with {N} points\")\n",
    "plt.show()"
   ]
  },
  {
   "cell_type": "code",
   "execution_count": null,
   "metadata": {},
   "outputs": [],
   "source": [
    "eigen_values, eigen_vectors = diffusion_map(data, num_eigenvalues=5)\n",
    "\n",
    "eigen_figure = plt.figure(figsize=(10,10))\n",
    "constant_plot = eigen_figure.add_subplot(311)\n",
    "first_period_plot = eigen_figure.add_subplot(312)\n",
    "second_period_plot = eigen_figure.add_subplot(313)\n",
    "\n",
    "constant_plot.plot(t_values, np.around(eigen_vectors[:,0], 10), label=f'Value{0}={eigen_values[0]:.5f}')\n",
    "first_period_plot.plot(t_values, eigen_vectors[:,1], label=f'Value{1}={eigen_values[1]:.5f}')\n",
    "first_period_plot.plot(t_values, eigen_vectors[:,2], label=f'Value{2}={eigen_values[2]:.5f}')\n",
    "second_period_plot.plot(t_values, eigen_vectors[:,3], label=f'Value{3}={eigen_values[3]:.5f}')\n",
    "second_period_plot.plot(t_values, eigen_vectors[:,4], label=f'Value{4}={eigen_values[4]:.5f}')\n",
    "\n",
    "\n",
    "unit = 0.25\n",
    "x_tick = np.arange(0, 2+unit, unit)\n",
    "\n",
    "x_label = [r\"$\" + format(r, \".2g\")+ r\"\\pi$\" for r in x_tick]\n",
    "\n",
    "constant_plot.set_xticks(x_tick*np.pi)\n",
    "constant_plot.set_xticklabels(x_label, fontsize=10)\n",
    "first_period_plot.set_xticks(x_tick*np.pi)\n",
    "first_period_plot.set_xticklabels(x_label, fontsize=10)\n",
    "second_period_plot.set_xticks(x_tick*np.pi)\n",
    "second_period_plot.set_xticklabels(x_label, fontsize=10)\n",
    "\n",
    "constant_plot.legend(loc=\"upper left\")\n",
    "first_period_plot.legend(loc=\"upper left\")\n",
    "second_period_plot.legend(loc=\"upper left\")\n",
    "eigen_figure.subplots_adjust(hspace=0.5)\n",
    "eigen_figure.show()"
   ]
  },
  {
   "cell_type": "markdown",
   "metadata": {},
   "source": [
    "## Part 2\n"
   ]
  },
  {
   "cell_type": "code",
   "execution_count": null,
   "metadata": {},
   "outputs": [],
   "source": [
    "# Step 1: Generate the \"swiss roll\" dataset\n",
    "np.random.seed(42)  # Set a seed for reproducibility\n",
    "X, X_color = make_swiss_roll(n_samples=5000)\n",
    "\n",
    "rng = np.random.default_rng(1)\n",
    "idx_plot = rng.permutation(5000)[0:5000]\n",
    "\n",
    "# Step 1.1: Plot the initial 3D \"swiss roll\" dataset\n",
    "fig = plt.figure(figsize=(10, 8))\n",
    "ax = fig.add_subplot(111, projection='3d')\n",
    "ax.scatter(X[idx_plot, 0], X[idx_plot, 1], X[idx_plot, 2], c=X_color[idx_plot], cmap=plt.cm.Spectral, s=20)\n",
    "ax.set_title(\"Swiss Roll Dataset\")\n",
    "ax.set_xlabel(\"X\")\n",
    "ax.set_ylabel(\"Y\")\n",
    "ax.set_zlabel(\"Z\")\n",
    "plt.show()\n",
    "\n",
    "# Step 2: Apply the diffusion maps algorithm\n",
    "eigenvalues, eigenvectors = diffusion_map(X, diameter_percent=0.05, num_eigenvalues=10)\n",
    "\n",
    "# Step 3: Plot the first non-constant eigenfunction against other eigenfunctions\n",
    "fig, axes = plt.subplots(2, 4, figsize=(15, 6))\n",
    "\n",
    "\n",
    "for i, ax in enumerate(axes.flatten()):\n",
    "    if i == 0:\n",
    "        ax.scatter(eigenvectors[idx_plot, 1], np.around(eigenvectors[idx_plot, 0],5), s=5, c=X_color[idx_plot], cmap=plt.cm.Spectral, alpha=0.5)\n",
    "        ax.set_title(f'φ1 vs φ0')\n",
    "        ax.set_xlabel('φ1')\n",
    "        ax.set_ylabel(f'φ0')\n",
    "    else:\n",
    "        ax.scatter(eigenvectors[idx_plot, 1], eigenvectors[idx_plot, i+1], s=5, c=X_color[idx_plot], cmap=plt.cm.Spectral, alpha=0.5)\n",
    "        ax.set_title(f'φ1 vs φ{i + 1}')\n",
    "        ax.set_xlabel('φ1')\n",
    "        ax.set_ylabel(f'φ{i + 1}')\n",
    "\n",
    "plt.tight_layout()\n",
    "plt.show()\n",
    "\n",
    "# Step 4: Determine when φl, l > 1 is no longer a function of φ1\n",
    "# You may visually inspect the plots to identify the point where the relationship changes.\n",
    "\n",
    "# Step 5: Compute the three principal components of the \"swiss roll\" dataset\n",
    "from sklearn.decomposition import PCA\n",
    "\n",
    "pca = PCA(n_components=3)\n",
    "X_pca = pca.fit_transform(X)\n",
    "\n",
    "# Step 6: Discuss why it's impossible to represent the data using only two principal components.\n",
    "\n",
    "# Step 7: Investigate the effect of using only 1000 data points\n",
    "X_1000, _ = make_swiss_roll(n_samples=1000)\n",
    "eigenvalues_1000, eigenvectors_1000 = diffusion_map(X_1000, diameter_percent=0.05, num_eigenvalues=10)\n"
   ]
  },
  {
   "cell_type": "code",
   "execution_count": null,
   "metadata": {},
   "outputs": [],
   "source": [
    "# read the trajectories data\n",
    "trajs = pd.read_csv(\"../data/data_DMAP_PCA_vadere.txt\", header=None, sep=\" \")\n",
    "trajs.head()"
   ]
  },
  {
   "cell_type": "code",
   "execution_count": null,
   "metadata": {},
   "outputs": [],
   "source": []
  },
  {
   "cell_type": "markdown",
   "metadata": {},
   "source": [
    "## Bonus\n",
    "\n",
    "In this section we use the `datafold` tool to plot the eigenvectors of the swiss roll dataset."
   ]
  },
  {
   "cell_type": "code",
   "execution_count": null,
   "metadata": {},
   "outputs": [],
   "source": [
    "import datafold.dynfold as dfold\n",
    "import datafold.pcfold as pfold\n",
    "from datafold.dynfold import LocalRegressionSelection\n",
    "from datafold.utils.plot import plot_pairwise_eigenvector"
   ]
  },
  {
   "cell_type": "markdown",
   "metadata": {},
   "source": [
    "### Diffusion Maps with `datafold`\n",
    "In this cell we create and fit the diffusion map using the datafold library."
   ]
  },
  {
   "cell_type": "code",
   "execution_count": null,
   "metadata": {},
   "outputs": [],
   "source": [
    "\n",
    "X_pcm = pfold.PCManifold(X)\n",
    "X_pcm.optimize_parameters()\n",
    "\n",
    "print(f\"epsilon={X_pcm.kernel.epsilon}, cut-off={X_pcm.cut_off}\")\n",
    "\n",
    "dmap = dfold.DiffusionMaps(\n",
    "    kernel=pfold.GaussianKernel(\n",
    "        epsilon=X_pcm.kernel.epsilon, distance=dict(cut_off=X_pcm.cut_off)\n",
    "    ),\n",
    "    n_eigenpairs=9,\n",
    ")\n",
    "dmap = dmap.fit(X_pcm)\n",
    "evecs, evals = dmap.eigenvectors_, dmap.eigenvalues_\n",
    "\n",
    "plot_pairwise_eigenvector(\n",
    "    eigenvectors=dmap.eigenvectors_[idx_plot, :],\n",
    "    n=1,\n",
    "    fig_params=dict(figsize=[15, 15]),\n",
    "    scatter_params=dict(cmap=plt.cm.Spectral, c=X_color[idx_plot]),\n",
    ")"
   ]
  },
  {
   "cell_type": "markdown",
   "metadata": {},
   "source": []
  }
 ],
 "metadata": {
  "kernelspec": {
   "display_name": "MLCMS_GroupI",
   "language": "python",
   "name": "python3"
  },
  "language_info": {
   "codemirror_mode": {
    "name": "ipython",
    "version": 3
   },
   "file_extension": ".py",
   "mimetype": "text/x-python",
   "name": "python",
   "nbconvert_exporter": "python",
   "pygments_lexer": "ipython3"
  }
 },
 "nbformat": 4,
 "nbformat_minor": 2
}
