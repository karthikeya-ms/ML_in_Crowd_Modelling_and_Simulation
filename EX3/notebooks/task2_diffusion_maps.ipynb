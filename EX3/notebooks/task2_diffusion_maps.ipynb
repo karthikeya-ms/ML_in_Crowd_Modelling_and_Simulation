{
 "cells": [
  {
   "cell_type": "code",
   "execution_count": null,
   "metadata": {},
   "outputs": [],
   "source": [
    "import init_notebook"
   ]
  },
  {
   "cell_type": "markdown",
   "metadata": {},
   "source": [
    "# Task 2 - Diffusion Maps\n",
    "\n",
    "This task focuses on dimensionality reduction using diffusion maps."
   ]
  },
  {
   "cell_type": "code",
   "execution_count": null,
   "metadata": {},
   "outputs": [],
   "source": [
    "%load_ext autoreload\n",
    "%autoreload 2\n",
    "import numpy as np\n",
    "import math as m\n",
    "import matplotlib.pyplot as plt\n",
    "from difusion_maps import diffusion_map, DiffusionMap\n",
    "from sklearn.datasets import make_swiss_roll\n",
    "from mpl_toolkits.mplot3d import Axes3D  # For 3D plotting\n",
    "import pandas as pd\n"
   ]
  },
  {
   "cell_type": "markdown",
   "metadata": {},
   "source": [
    "## Part 1\n",
    "In this part of the task a dataset is created with the following formula:\n",
    "$$\n",
    "X = \\{x_k\\in \\R^2\\}_{k=1}^{N} \\\\\n",
    "$$\n",
    "$$\n",
    "x_k = (\\cos(t_k), \\sin(t_k)) \\\\\n",
    "$$\n",
    "$$\n",
    "t_k = \\frac{2\\pi k}{N+1}\n",
    "$$"
   ]
  },
  {
   "cell_type": "code",
   "execution_count": null,
   "metadata": {},
   "outputs": [],
   "source": [
    "N = 1000\n",
    "\n",
    "def t(k: int) -> float:\n",
    "    return (2 * m.pi * k) / (N + 1)\n",
    "\n",
    "t_values = np.array([t(k) for k in range(N)], dtype=np.float64)\n",
    "\n",
    "data_x = np.cos(t_values)\n",
    "data_y = np.sin(t_values)\n",
    "\n",
    "data = np.dstack((data_x, data_y))[0]\n",
    "plt.plot(data_x, data_y)\n",
    "plt.title(f\"Part 1 data with {N} points\")\n",
    "plt.show()"
   ]
  },
  {
   "cell_type": "code",
   "execution_count": null,
   "metadata": {},
   "outputs": [],
   "source": [
    "mapping = DiffusionMap(data, num_eigenvalues=5)\n",
    "\n",
    "eigen_figure = plt.figure()\n",
    "constant_plot = eigen_figure.add_subplot(311)\n",
    "first_period_plot = eigen_figure.add_subplot(312)\n",
    "second_period_plot = eigen_figure.add_subplot(313)\n",
    "\n",
    "constant_plot.plot(t_values, np.around(mapping.points[:,0], 10), label=f'Value{0}={mapping.eigen_value(0):.5f}')\n",
    "first_period_plot.plot(t_values, mapping.points[:,1], label=f'Value{1}={mapping.eigen_value(1):.5f}')\n",
    "first_period_plot.plot(t_values, mapping.points[:,2], label=f'Value{2}={mapping.eigen_value(2):.5f}')\n",
    "second_period_plot.plot(t_values, mapping.points[:,3], label=f'Value{3}={mapping.eigen_value(3):.5f}')\n",
    "second_period_plot.plot(t_values, mapping.points[:,4], label=f'Value{4}={mapping.eigen_value(4):.5f}')\n",
    "\n",
    "\n",
    "unit = 0.25\n",
    "x_tick = np.arange(0, 2+unit, unit)\n",
    "\n",
    "x_label = [r\"$\" + format(r, \".2g\")+ r\"\\pi$\" for r in x_tick]\n",
    "\n",
    "constant_plot.set_xticks(x_tick*np.pi)\n",
    "constant_plot.set_xticklabels(x_label, fontsize=10)\n",
    "first_period_plot.set_xticks(x_tick*np.pi)\n",
    "first_period_plot.set_xticklabels(x_label, fontsize=10)\n",
    "second_period_plot.set_xticks(x_tick*np.pi)\n",
    "second_period_plot.set_xticklabels(x_label, fontsize=10)\n",
    "\n",
    "constant_plot.legend(loc=\"upper left\")\n",
    "first_period_plot.legend(loc=\"upper left\")\n",
    "second_period_plot.legend(loc=\"upper left\")\n",
    "eigen_figure.subplots_adjust(hspace=0.5)\n",
    "eigen_figure.show()"
   ]
  },
  {
   "cell_type": "code",
   "execution_count": null,
   "metadata": {},
   "outputs": [],
   "source": [
    "# Step 1: Generate the \"swiss roll\" dataset\n",
    "np.random.seed(42)  # Set a seed for reproducibility\n",
    "X, _ = make_swiss_roll(n_samples=5000)\n",
    "\n",
    "# Step 1.1: Plot the initial 3D \"swiss roll\" dataset\n",
    "fig = plt.figure(figsize=(10, 8))\n",
    "ax = fig.add_subplot(111, projection='3d')\n",
    "ax.scatter(X[:, 0], X[:, 1], X[:, 2], c='blue', cmap='viridis', s=20)\n",
    "ax.set_title(\"Swiss Roll Dataset\")\n",
    "ax.set_xlabel(\"X\")\n",
    "ax.set_ylabel(\"Y\")\n",
    "ax.set_zlabel(\"Z\")\n",
    "plt.show()\n",
    "\n",
    "# Step 2: Apply the diffusion maps algorithm\n",
    "eigenvalues, eigenvectors = diffusion_map(X, diameter_percent=0.05, num_eigenvalues=10)\n",
    "\n",
    "# Step 3: Plot the first non-constant eigenfunction against other eigenfunctions\n",
    "fig, axes = plt.subplots(2, 5, figsize=(15, 6))\n",
    "for i, ax in enumerate(axes.flatten()):\n",
    "    ax.scatter(eigenvectors[:, 0], eigenvectors[:, i], s=5, c='blue', alpha=0.5)\n",
    "    ax.set_title(f'φ1 vs φ{i + 2}')\n",
    "    ax.set_xlabel('φ1')\n",
    "    ax.set_ylabel(f'φ{i + 2}')\n",
    "\n",
    "plt.tight_layout()\n",
    "plt.show()\n",
    "\n",
    "# Step 4: Determine when φl, l > 1 is no longer a function of φ1\n",
    "# You may visually inspect the plots to identify the point where the relationship changes.\n",
    "\n",
    "# Step 5: Compute the three principal components of the \"swiss roll\" dataset\n",
    "from sklearn.decomposition import PCA\n",
    "\n",
    "pca = PCA(n_components=3)\n",
    "X_pca = pca.fit_transform(X)\n",
    "\n",
    "# Step 6: Discuss why it's impossible to represent the data using only two principal components.\n",
    "\n",
    "# Step 7: Investigate the effect of using only 1000 data points\n",
    "X_1000, _ = make_swiss_roll(n_samples=1000)\n",
    "eigenvalues_1000, eigenvectors_1000 = diffusion_map(X_1000, diameter_percent=0.05, num_eigenvalues=10)\n"
   ]
  },
  {
   "cell_type": "code",
   "execution_count": null,
   "metadata": {},
   "outputs": [],
   "source": [
    "# read the trajectories data\n",
    "trajs = pd.read_csv(\"../data/data_DMAP_PCA_vadere.txt\", header=None, sep=\" \")\n",
    "trajs.head()"
   ]
  },
  {
   "cell_type": "code",
   "execution_count": null,
   "metadata": {},
   "outputs": [],
   "source": []
  }
 ],
 "metadata": {
  "kernelspec": {
   "display_name": "MLCMS_GroupI",
   "language": "python",
   "name": "python3"
  },
  "language_info": {
   "codemirror_mode": {
    "name": "ipython",
    "version": 3
   },
   "file_extension": ".py",
   "mimetype": "text/x-python",
   "name": "python",
   "nbconvert_exporter": "python",
   "pygments_lexer": "ipython3"
  }
 },
 "nbformat": 4,
 "nbformat_minor": 2
}
