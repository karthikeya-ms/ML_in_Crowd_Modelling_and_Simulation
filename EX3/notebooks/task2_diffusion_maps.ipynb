{
 "cells": [
  {
   "cell_type": "code",
   "execution_count": null,
   "metadata": {},
   "outputs": [],
   "source": [
    "import init_notebook"
   ]
  },
  {
   "cell_type": "markdown",
   "metadata": {},
   "source": [
    "# Task 2 - Diffusion Maps\n",
    "\n",
    "This task focuses on dimensionality reduction using diffusion maps."
   ]
  },
  {
   "cell_type": "code",
   "execution_count": null,
   "metadata": {},
   "outputs": [],
   "source": [
    "%load_ext autoreload\n",
    "%autoreload 2\n",
    "import numpy as np\n",
    "import math as m\n",
    "import matplotlib.pyplot as plt\n",
    "from difusion_maps import diffusion_map\n"
   ]
  },
  {
   "cell_type": "markdown",
   "metadata": {},
   "source": [
    "## Part 1\n",
    "In this part of the task a dataset is created with the following formula:\n",
    "$$\n",
    "X = \\{x_k\\in \\R^2\\}_{k=1}^{N} \\\\\n",
    "$$\n",
    "$$\n",
    "x_k = (\\cos(t_k), \\sin(t_k)) \\\\\n",
    "$$\n",
    "$$\n",
    "t_k = \\frac{2\\pi k}{N+1}\n",
    "$$"
   ]
  },
  {
   "cell_type": "code",
   "execution_count": null,
   "metadata": {},
   "outputs": [],
   "source": [
    "N = 1000\n",
    "\n",
    "def t(k: int) -> float:\n",
    "    return (2 * m.pi * k) / (N + 1)\n",
    "\n",
    "data_x = np.cos(np.array(\n",
    "    [t(k) for k in range(N)], dtype=np.float64\n",
    "))\n",
    "\n",
    "data_y = np.sin(np.array(\n",
    "    [t(k) for k in range(N)], dtype=np.float64\n",
    "))\n",
    "\n",
    "data = np.dstack((data_x, data_y))[0]\n",
    "plt.plot(data_x, data_y)\n",
    "plt.title(f\"Part 1 data with {N} points\")\n",
    "plt.show()"
   ]
  },
  {
   "cell_type": "code",
   "execution_count": null,
   "metadata": {},
   "outputs": [],
   "source": [
    "eigen_values, eigen_vectors = diffusion_map(data, num_eigenvalues=-1)\n",
    "\n",
    "for value in eigen_values:\n",
    "    print(value)\n"
   ]
  },
  {
   "cell_type": "code",
   "execution_count": null,
   "metadata": {},
   "outputs": [],
   "source": []
  },
  {
   "cell_type": "code",
   "execution_count": null,
   "metadata": {},
   "outputs": [],
   "source": []
  }
 ],
 "metadata": {
  "kernelspec": {
   "display_name": "MLCMS_GroupI",
   "language": "python",
   "name": "python3"
  },
  "language_info": {
   "codemirror_mode": {
    "name": "ipython",
    "version": 3
   },
   "file_extension": ".py",
   "mimetype": "text/x-python",
   "name": "python",
   "nbconvert_exporter": "python",
   "pygments_lexer": "ipython3"
  }
 },
 "nbformat": 4,
 "nbformat_minor": 2
}
