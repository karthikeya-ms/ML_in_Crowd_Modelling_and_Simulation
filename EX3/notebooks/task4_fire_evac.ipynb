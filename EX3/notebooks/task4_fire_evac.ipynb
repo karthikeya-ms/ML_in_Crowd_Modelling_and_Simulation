{
 "cells": [
  {
   "cell_type": "markdown",
   "metadata": {},
   "source": [
    "# Task 4 - Fire Evacuation Planning for the MI Building"
   ]
  },
  {
   "cell_type": "code",
   "execution_count": null,
   "metadata": {},
   "outputs": [],
   "source": [
    "import init_notebook\n",
    "import warnings\n",
    "from torchvision.datasets import MNIST\n",
    "from sklearn.preprocessing import StandardScaler, MinMaxScaler\n",
    "import numpy as np\n",
    "import torch\n",
    "import matplotlib.pyplot as plt\n",
    "import seaborn as sns\n",
    "from torch.utils.data import TensorDataset, DataLoader\n",
    "from vae import VAETrainer, VAEConfig\n",
    "\n",
    "warnings.simplefilter(action='ignore', category=FutureWarning)"
   ]
  },
  {
   "cell_type": "code",
   "execution_count": null,
   "metadata": {},
   "outputs": [],
   "source": [
    "def plot_mi_building_points(points, title):\n",
    "    x_min_max = (points.T[0].min(), points.T[0].max())\n",
    "    y_min_max = (points.T[1].min(), points.T[1].max())\n",
    "    img = plt.imread('mi_buiding.png')\n",
    "    plt.imshow(img,zorder=0, extent=[x_min_max[0], x_min_max[1], y_min_max[0], y_min_max[1]], aspect='auto')\n",
    "    plt.title(title)\n",
    "    plt.xlabel(\"x\")\n",
    "    plt.ylabel(\"y\")\n",
    "    sns.scatterplot(x=points.T[0], y=points.T[1])\n",
    "    plt.show()"
   ]
  },
  {
   "cell_type": "code",
   "execution_count": null,
   "metadata": {},
   "outputs": [],
   "source": [
    "train_set = np.load(\"FireEvac_train_set.npy\")\n",
    "test_set = np.load(\"FireEvac_test_set.npy\")\n",
    "\n",
    "print(f\"training set shape:\",list(train_set.shape))\n",
    "print(f\"testing set shape:\",list(test_set.shape))\n",
    "\n",
    "print(\"training [min, max]:\",f\"[{train_set.min().item()}, {train_set.max().item()}]\")\n",
    "print(\"testing [min, max]:\",f\"[{test_set.min().item()}, {test_set.max().item()}]\")"
   ]
  },
  {
   "cell_type": "code",
   "execution_count": null,
   "metadata": {},
   "outputs": [],
   "source": [
    "plot_mi_building_points(train_set, \"Training Set\")"
   ]
  },
  {
   "cell_type": "code",
   "execution_count": null,
   "metadata": {},
   "outputs": [],
   "source": [
    "plot_mi_building_points(test_set, \"Testing Set\")"
   ]
  },
  {
   "cell_type": "code",
   "execution_count": null,
   "metadata": {},
   "outputs": [],
   "source": [
    "print(\"training [min, max]:\",f\"[{train_set.min().item()}, {train_set.max().item()}]\")\n",
    "print(\"testing [min, max]:\",f\"[{test_set.min().item()}, {test_set.max().item()}]\")"
   ]
  },
  {
   "cell_type": "code",
   "execution_count": null,
   "metadata": {},
   "outputs": [],
   "source": [
    "train_set_tensor = torch.from_numpy(train_set)\n",
    "train_dataset = TensorDataset(train_set_tensor, train_set_tensor)\n",
    "\n",
    "test_set_tensor = torch.from_numpy(test_set)\n",
    "\n",
    "test_dataset = TensorDataset(test_set_tensor, test_set_tensor)"
   ]
  },
  {
   "cell_type": "markdown",
   "metadata": {},
   "source": [
    "## Model Tarining"
   ]
  },
  {
   "cell_type": "code",
   "execution_count": null,
   "metadata": {},
   "outputs": [],
   "source": [
    "config = VAEConfig(\n",
    "    input_dim=2,\n",
    "    latent_dim=2,\n",
    "    encoder_layers=[64, 64],\n",
    "    decoder_layers=[64, 64],\n",
    "    learning_rate=0.005,\n",
    "    batch_size=64,\n",
    "    epochs=400,\n",
    "    visualization_interval=None,\n",
    "    output_linear = True\n",
    ")\n",
    "\n",
    "vae_trainer = VAETrainer(config=config, train_set=train_dataset, test_set=test_dataset)\n",
    "vae_trainer.train()"
   ]
  },
  {
   "cell_type": "markdown",
   "metadata": {},
   "source": [
    "## Reconstructed Test Set"
   ]
  },
  {
   "cell_type": "code",
   "execution_count": null,
   "metadata": {},
   "outputs": [],
   "source": [
    "test_predicted_scaled = vae_trainer.predict_test()\n",
    "# test_predicted = scaler.inverse_transform(test_predicted_scaled)\n",
    "# test_predicted = (test_predicted_scaled + 1) * ((train_set.max() - train_set.min()) / 2) + train_set.min()\n",
    "\n",
    "plot_mi_building_points(test_predicted_scaled, \"Reconstructed Test Set\")"
   ]
  },
  {
   "cell_type": "markdown",
   "metadata": {},
   "source": [
    "## Generated Samples"
   ]
  },
  {
   "cell_type": "code",
   "execution_count": null,
   "metadata": {},
   "outputs": [],
   "source": [
    "generated_samples = vae_trainer.get_n_generated_samples(1000)\n",
    "generated_samples = generated_samples * 180/ generated_samples.max()\n",
    "\n",
    "plot_mi_building_points(generated_samples, \"Generated samples\")"
   ]
  },
  {
   "cell_type": "markdown",
   "metadata": {},
   "source": [
    "## Can the critical point be reached?"
   ]
  },
  {
   "cell_type": "code",
   "execution_count": null,
   "metadata": {},
   "outputs": [],
   "source": [
    "def points_inside_box(tensor):\n",
    "    critical_area_ll = np.array([130.0, 50.0])\n",
    "    critical_area_ur = np.array([150.0, 70.0])\n",
    "\n",
    "    inidx = np.all((critical_area_ll <= tensor.numpy()) & (tensor.numpy() <= critical_area_ur) , axis=1)\n",
    "    return tensor[inidx]"
   ]
  },
  {
   "cell_type": "code",
   "execution_count": null,
   "metadata": {},
   "outputs": [],
   "source": [
    "for i in range(1, 100000, 50):\n",
    "    generated_samples = vae_trainer.get_n_generated_samples(i)\n",
    "    points_in = points_inside_box(generated_samples)\n",
    "    if len(points_in) >= 100:\n",
    "        print(i)\n",
    "        break\n",
    "else:\n",
    "    print(\"Cannot be reached\")\n"
   ]
  }
 ],
 "metadata": {
  "kernelspec": {
   "display_name": "MLCMS_GroupI",
   "language": "python",
   "name": "python3"
  },
  "language_info": {
   "codemirror_mode": {
    "name": "ipython",
    "version": 3
   },
   "file_extension": ".py",
   "mimetype": "text/x-python",
   "name": "python",
   "nbconvert_exporter": "python",
   "pygments_lexer": "ipython3"
  }
 },
 "nbformat": 4,
 "nbformat_minor": 2
}
