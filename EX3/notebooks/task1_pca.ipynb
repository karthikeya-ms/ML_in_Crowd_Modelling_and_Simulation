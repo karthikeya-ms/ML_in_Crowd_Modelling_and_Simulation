{
 "cells": [
  {
   "cell_type": "markdown",
   "metadata": {},
   "source": [
    "# Example Notebook\n",
    "\n",
    "This notebook serves to show how to create a notebook in the current directory structure.\n",
    "\n",
    "Simply, after importing `init_notebook` the user can both import the `test_module` and its `test_function`, located in the `src` directory. Finally, it also becomes possible to open files in the `data` folder directly. All paths are relative to this directory so it is also possible to directly save a file to it."
   ]
  },
  {
   "cell_type": "code",
   "execution_count": null,
   "metadata": {},
   "outputs": [],
   "source": [
    "import init_notebook\n",
    "from test_module import test_function\n",
    "from pca import PCA\n",
    "from pca_utils import *\n",
    "\n",
    "import numpy as np\n",
    "import scipy as sc\n",
    "\n",
    "import matplotlib.pyplot as plt\n",
    "\n",
    "test_function()"
   ]
  },
  {
   "cell_type": "markdown",
   "metadata": {},
   "source": [
    "# Principal Component Analysis\n",
    "We load the data from a file and perform PCA.\n",
    "\n",
    "It's obvious that one of the principal components accounts for over 99.3% of the variance in the data, which motivates us to the assumption that the other principal component is just noise."
   ]
  },
  {
   "cell_type": "code",
   "execution_count": null,
   "metadata": {},
   "outputs": [],
   "source": [
    "with open(\"pca_dataset.txt\", 'r') as file:\n",
    "    # Load data inta a Python ndarray, shape (100, 2)\n",
    "    global data_matrix\n",
    "    data_matrix = np.loadtxt(file, delimiter=' ')\n",
    "\n",
    "pca_result = PCA.pca(data_matrix)\n",
    "\n",
    "U, S, Vh, mean = pca_result\n",
    "E = pca_result.energy\n",
    "\n",
    "print(f'Energies: {E}\\nsum should be 1: {np.sum(E)}\\nSingular values ordered by magnitude: {S}')"
   ]
  },
  {
   "cell_type": "markdown",
   "metadata": {},
   "source": [
    "# Reversing PSA to verify correctness"
   ]
  },
  {
   "cell_type": "code",
   "execution_count": null,
   "metadata": {},
   "outputs": [],
   "source": [
    "data_matrix_reconstructed = pca_result.reverse_pca(2, add_mean=True)\n",
    "\n",
    "# Before and after: Works nicely!\n",
    "display_side_by_side = True\n",
    "if display_side_by_side:\n",
    "    for o, r in zip(data_matrix, data_matrix_reconstructed):\n",
    "        print(f'o: {o}, r: {r}')\n",
    "\n",
    "assert np.allclose(data_matrix, data_matrix_reconstructed)"
   ]
  },
  {
   "cell_type": "markdown",
   "metadata": {},
   "source": [
    "# Plotting data\n",
    "\n",
    "The plot looks suspiciously linear, which further supports the assumption that a linear model is very suitable for this dataset. The green principal component seems to be just noise, with no discernable patterns. The points align strongly with the red principal component.\n",
    "\n",
    "PSA is a great approach for data that shows affine-linear behavior, as opposed to data on curved manifolds. This is why it makes sense to use PSA for this data."
   ]
  },
  {
   "cell_type": "code",
   "execution_count": null,
   "metadata": {},
   "outputs": [],
   "source": [
    "plot_data_with_pcs(data_matrix, Vh)"
   ]
  },
  {
   "cell_type": "markdown",
   "metadata": {},
   "source": [
    "# Approximate 1D\n",
    "\n",
    "Eliminating the lesser principal component and approximating the data with only the first principal component, the data is approximated to a 1D line. This is done by simply setting the second singular value to 0 inside the matrix of singular values given by `S`, and then reversing the PCA by multiplying the matrices `U`, `S`, and `Vh`."
   ]
  },
  {
   "cell_type": "code",
   "execution_count": null,
   "metadata": {},
   "outputs": [],
   "source": [
    "approximated_data = pca_result.reverse_pca(1)\n",
    "\n",
    "print(approximated_data)\n",
    "\n",
    "plot_data_with_pcs(approximated_data, pca_result.Vh)"
   ]
  },
  {
   "cell_type": "markdown",
   "metadata": {},
   "source": [
    "# Image\n",
    "\n",
    "Original image:"
   ]
  },
  {
   "cell_type": "code",
   "execution_count": null,
   "metadata": {},
   "outputs": [],
   "source": [
    "# Remember that `scipy.misc.face` is deprecated\n",
    "my_image = sc.datasets.face(gray=True)\n",
    "\n",
    "my_image = rescale_img(my_image, 249, 185)\n",
    "\n",
    "print(f'dimensions: {my_image.shape}')\n",
    "\n",
    "plt.imshow(my_image, cmap='gray')"
   ]
  },
  {
   "cell_type": "markdown",
   "metadata": {},
   "source": [
    "# PCA on image\n",
    "\n",
    "We perform PCA!"
   ]
  },
  {
   "cell_type": "code",
   "execution_count": null,
   "metadata": {},
   "outputs": [],
   "source": [
    "# We use the columns as datapoints, hence specify the flag. This 'flattens' the image\n",
    "# The flag also ensures that the reconstructed image is transposed back to the original shape\n",
    "pca_result_img = PCA.pca(my_image, treat_columns_as_datapoints=True)\n",
    "\n",
    "print_pca_info(pca_result_img, 10)"
   ]
  },
  {
   "cell_type": "markdown",
   "metadata": {},
   "source": [
    "Visualization of reconstructions"
   ]
  },
  {
   "cell_type": "code",
   "execution_count": null,
   "metadata": {},
   "outputs": [],
   "source": [
    "\n",
    "# Visualize reconstructions with different numbers of principal components\n",
    "for num_components in [pca_result_img.S.shape[0], 120, 50, 10]:\n",
    "    plot_reconstructed_image(pca_result_img, num_components, my_image.shape)\n"
   ]
  },
  {
   "cell_type": "markdown",
   "metadata": {},
   "source": [
    "Number of components for less than 1% energy loss"
   ]
  },
  {
   "cell_type": "code",
   "execution_count": null,
   "metadata": {},
   "outputs": [],
   "source": [
    "# Find the number of components needed to retain 99% of the energy\n",
    "n = pca_result_img.S.shape[0]\n",
    "while np.sum(pca_result_img.energy[:n-1]) > 0.99:\n",
    "    n -= 1\n",
    "\n",
    "print(f'Number of components needed to retain 99% of the energy: {n}')\n",
    "print(f'Energy retained: {np.sum(pca_result_img.energy[:n])}')"
   ]
  }
 ],
 "metadata": {
  "kernelspec": {
   "display_name": "MLCMS_GroupI",
   "language": "python",
   "name": "python3"
  },
  "language_info": {
   "codemirror_mode": {
    "name": "ipython",
    "version": 3
   },
   "file_extension": ".py",
   "mimetype": "text/x-python",
   "name": "python",
   "nbconvert_exporter": "python",
   "pygments_lexer": "ipython3"
  }
 },
 "nbformat": 4,
 "nbformat_minor": 2
}
