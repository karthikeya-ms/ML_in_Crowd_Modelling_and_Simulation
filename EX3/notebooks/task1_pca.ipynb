{
 "cells": [
  {
   "cell_type": "markdown",
   "metadata": {},
   "source": [
    "# Example Notebook\n",
    "\n",
    "This notebook serves to show how to create a notebook in the current directory structure.\n",
    "\n",
    "Simply, after importing `init_notebook` the user can both import the `test_module` and its `test_function`, located in the `src` directory. Finally, it also becomes possible to open files in the `data` folder directly. All paths are relative to this directory so it is also possible to directly save a file to it."
   ]
  },
  {
   "cell_type": "code",
   "execution_count": 1,
   "metadata": {
    "collapsed": false,
    "ExecuteTime": {
     "end_time": "2023-11-22T16:27:31.130989933Z",
     "start_time": "2023-11-22T16:27:30.700954154Z"
    }
   },
   "outputs": [
    {
     "name": "stdout",
     "output_type": "stream",
     "text": [
      "I was imported!\n"
     ]
    }
   ],
   "source": [
    "import init_notebook\n",
    "from test_module import test_function\n",
    "import pca\n",
    "from pca import PCA, plot_data_with_pcs\n",
    "\n",
    "import numpy as np\n",
    "\n",
    "test_function()"
   ]
  },
  {
   "cell_type": "markdown",
   "source": [
    "# Principal Component Analysis\n",
    "We load the data from a file and perform PCA.\n",
    "\n",
    "It's obvious that one of the principal components accounts for over 99.3% of the variance in the data, which motivates us to the assumption that the other principal component is just noise."
   ],
   "metadata": {
    "collapsed": false
   }
  },
  {
   "cell_type": "code",
   "execution_count": 2,
   "metadata": {
    "collapsed": false,
    "ExecuteTime": {
     "end_time": "2023-11-22T16:27:31.177032834Z",
     "start_time": "2023-11-22T16:27:31.118288155Z"
    }
   },
   "outputs": [
    {
     "name": "stdout",
     "output_type": "stream",
     "text": [
      "Energies: [0.99314266 0.00685734]\n",
      "sum should be 1: 1.0\n",
      "Singular values ordered by magnitude: [9.94340494 0.82624201]\n"
     ]
    }
   ],
   "source": [
    "with open(\"pca_dataset.txt\", 'r') as file:\n",
    "    # Load data inta a Python ndarray, shape (100, 2)\n",
    "    global data_matrix\n",
    "    data_matrix = np.loadtxt(file, delimiter=' ')\n",
    "\n",
    "pca_result = PCA.pca(data_matrix)\n",
    "\n",
    "U, S, Vh = pca_result\n",
    "E = pca_result.energy\n",
    "\n",
    "print(f'Energies: {E}\\nsum should be 1: {np.sum(E)}\\nSingular values ordered by magnitude: {S}')"
   ]
  },
  {
   "cell_type": "markdown",
   "source": [
    "# Reversing PSA to verify correctness"
   ],
   "metadata": {
    "collapsed": false
   }
  },
  {
   "cell_type": "code",
   "execution_count": 3,
   "outputs": [
    {
     "ename": "AssertionError",
     "evalue": "",
     "output_type": "error",
     "traceback": [
      "\u001B[0;31m---------------------------------------------------------------------------\u001B[0m",
      "\u001B[0;31mAssertionError\u001B[0m                            Traceback (most recent call last)",
      "Cell \u001B[0;32mIn[3], line 1\u001B[0m\n\u001B[0;32m----> 1\u001B[0m data_matrix_reconstructed \u001B[38;5;241m=\u001B[39m \u001B[43mpca_result\u001B[49m\u001B[38;5;241;43m.\u001B[39;49m\u001B[43mreverse_pca\u001B[49m\u001B[43m(\u001B[49m\u001B[38;5;241;43m2\u001B[39;49m\u001B[43m,\u001B[49m\u001B[43m \u001B[49m\u001B[43madd_mean\u001B[49m\u001B[38;5;241;43m=\u001B[39;49m\u001B[38;5;28;43;01mTrue\u001B[39;49;00m\u001B[43m)\u001B[49m\n\u001B[1;32m      3\u001B[0m \u001B[38;5;66;03m# Before and after: Works nicely!\u001B[39;00m\n\u001B[1;32m      4\u001B[0m display_side_by_side \u001B[38;5;241m=\u001B[39m \u001B[38;5;28;01mTrue\u001B[39;00m\n",
      "File \u001B[0;32m~/ML-CS/EX3/src/pca.py:60\u001B[0m, in \u001B[0;36mPCA.reverse_pca\u001B[0;34m(self, r, add_mean)\u001B[0m\n\u001B[1;32m     54\u001B[0m \u001B[38;5;28;01mdef\u001B[39;00m \u001B[38;5;21mreverse_pca\u001B[39m(\u001B[38;5;28mself\u001B[39m, r: \u001B[38;5;28mint\u001B[39m \u001B[38;5;241m=\u001B[39m \u001B[38;5;241m-\u001B[39m\u001B[38;5;241m1\u001B[39m, add_mean: \u001B[38;5;28mbool\u001B[39m \u001B[38;5;241m=\u001B[39m \u001B[38;5;28;01mTrue\u001B[39;00m) \u001B[38;5;241m-\u001B[39m\u001B[38;5;241m>\u001B[39m np\u001B[38;5;241m.\u001B[39mndarray:\n\u001B[1;32m     55\u001B[0m \u001B[38;5;250m    \u001B[39m\u001B[38;5;124;03m\"\"\"\u001B[39;00m\n\u001B[1;32m     56\u001B[0m \u001B[38;5;124;03m    Reconstruct data matrix from the PCA format\u001B[39;00m\n\u001B[1;32m     57\u001B[0m \u001B[38;5;124;03m    @param  r : int    number of principal components to use. If r <= 0, use all principal components\u001B[39;00m\n\u001B[1;32m     58\u001B[0m \u001B[38;5;124;03m    @param  add_mean   if True, add the mean to the reconstructed data. Otherwise, return centered data\u001B[39;00m\n\u001B[1;32m     59\u001B[0m \u001B[38;5;124;03m    \"\"\"\u001B[39;00m\n\u001B[0;32m---> 60\u001B[0m     \u001B[38;5;28;43mself\u001B[39;49m\u001B[38;5;241;43m.\u001B[39;49m\u001B[43mvalidate\u001B[49m\u001B[43m(\u001B[49m\u001B[43m)\u001B[49m\n\u001B[1;32m     61\u001B[0m     u, s, vh \u001B[38;5;241m=\u001B[39m \u001B[38;5;28mself\u001B[39m\n\u001B[1;32m     63\u001B[0m     N, n \u001B[38;5;241m=\u001B[39m u\u001B[38;5;241m.\u001B[39mshape[\u001B[38;5;241m0\u001B[39m], vh\u001B[38;5;241m.\u001B[39mshape[\u001B[38;5;241m1\u001B[39m]\n",
      "File \u001B[0;32m~/ML-CS/EX3/src/pca.py:52\u001B[0m, in \u001B[0;36mPCA.validate\u001B[0;34m(self)\u001B[0m\n\u001B[1;32m     50\u001B[0m \u001B[38;5;28;01massert\u001B[39;00m \u001B[38;5;28misinstance\u001B[39m(\u001B[38;5;28mself\u001B[39m\u001B[38;5;241m.\u001B[39m_mean, np\u001B[38;5;241m.\u001B[39mndarray)\n\u001B[1;32m     51\u001B[0m \u001B[38;5;28;01massert\u001B[39;00m \u001B[38;5;28mlen\u001B[39m(\u001B[38;5;28mself\u001B[39m\u001B[38;5;241m.\u001B[39m_mean\u001B[38;5;241m.\u001B[39mshape) \u001B[38;5;241m==\u001B[39m \u001B[38;5;241m1\u001B[39m\n\u001B[0;32m---> 52\u001B[0m \u001B[38;5;28;01massert\u001B[39;00m \u001B[38;5;28mself\u001B[39m\u001B[38;5;241m.\u001B[39m_mean\u001B[38;5;241m.\u001B[39mshape[\u001B[38;5;241m0\u001B[39m] \u001B[38;5;241m==\u001B[39m \u001B[38;5;28mself\u001B[39m\u001B[38;5;241m.\u001B[39mU\u001B[38;5;241m.\u001B[39mshape[\u001B[38;5;241m0\u001B[39m]\n",
      "\u001B[0;31mAssertionError\u001B[0m: "
     ]
    }
   ],
   "source": [
    "data_matrix_reconstructed = pca_result.reverse_pca(2, add_mean=True)\n",
    "\n",
    "# Before and after: Works nicely!\n",
    "display_side_by_side = True\n",
    "if display_side_by_side:\n",
    "    for o, r in zip(data_matrix, data_matrix_reconstructed):\n",
    "        print(f'o: {o}, r: {r}')\n",
    "\n",
    "assert np.allclose(data_matrix, data_matrix_reconstructed)"
   ],
   "metadata": {
    "collapsed": false,
    "ExecuteTime": {
     "end_time": "2023-11-22T16:27:31.817203767Z",
     "start_time": "2023-11-22T16:27:31.149787678Z"
    }
   }
  },
  {
   "cell_type": "markdown",
   "metadata": {
    "collapsed": false
   },
   "source": [
    "# Plotting data\n",
    "\n",
    "The plot looks suspiciously linear, which further supports the assumption that a linear model is very suitable for this dataset. The green principal component seems to be just noise, with no discernable patterns. The points align strongly with the red principal component.\n",
    "\n",
    "PSA is a great approach for data that shows affine-linear behavior, as opposed to data on curved manifolds. This is why it makes sense to use PSA for this data."
   ]
  },
  {
   "cell_type": "code",
   "execution_count": null,
   "metadata": {
    "ExecuteTime": {
     "start_time": "2023-11-22T16:27:31.814949051Z"
    }
   },
   "outputs": [],
   "source": [
    "plot_data_with_pcs(data_matrix, Vh)"
   ]
  },
  {
   "cell_type": "markdown",
   "source": [
    "# Approximate 1D\n",
    "\n",
    "Eliminating the lesser principal component and approximating the data with only the first principal component, the data is approximated to a 1D line. This is done by simply setting the second singular value to 0 inside the matrix of singular values given by `S`, and then reversing the PCA by multiplying the matrices `U`, `S`, and `Vh`."
   ],
   "metadata": {
    "collapsed": false
   }
  },
  {
   "cell_type": "code",
   "execution_count": null,
   "outputs": [],
   "source": [
    "approximated_data = pca_result.reverse_pca(1)\n",
    "\n",
    "print(approximated_data)\n",
    "\n",
    "plot_data_with_pcs(approximated_data, pca_result.Vh)"
   ],
   "metadata": {
    "collapsed": false,
    "ExecuteTime": {
     "start_time": "2023-11-22T16:27:31.818748536Z"
    }
   }
  }
 ],
 "metadata": {
  "kernelspec": {
   "display_name": "MLCMS_GroupI",
   "language": "python",
   "name": "python3"
  },
  "language_info": {
   "codemirror_mode": {
    "name": "ipython",
    "version": 3
   },
   "file_extension": ".py",
   "mimetype": "text/x-python",
   "name": "python",
   "nbconvert_exporter": "python",
   "pygments_lexer": "ipython3",
   "version": "3.10.13"
  }
 },
 "nbformat": 4,
 "nbformat_minor": 2
}
