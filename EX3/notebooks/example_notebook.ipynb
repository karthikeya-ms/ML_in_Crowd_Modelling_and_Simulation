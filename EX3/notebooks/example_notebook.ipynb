{
 "cells": [
  {
   "cell_type": "markdown",
   "metadata": {},
   "source": [
    "# Example Notebook\n",
    "\n",
    "This notebook serves to show how to create a notebook in the current directory structure.\n",
    "\n",
    "Simply, after importing `init_notebook` the user can both import the `test_module` and its `test_function`, located in the `src` directory. Finally, it also becomes possible to open files in the `data` folder directly. All paths are relative to this directory so it is also possible to directly save a file to it."
   ]
  },
  {
   "cell_type": "code",
   "execution_count": 1,
   "outputs": [
    {
     "name": "stdout",
     "output_type": "stream",
     "text": [
      "I was imported!\n"
     ]
    }
   ],
   "source": [
    "import init_notebook\n",
    "from test_module import test_function\n",
    "import psa\n",
    "\n",
    "import numpy as np\n",
    "\n",
    "test_function()"
   ],
   "metadata": {
    "collapsed": false,
    "ExecuteTime": {
     "end_time": "2023-11-20T00:35:18.099791679Z",
     "start_time": "2023-11-20T00:35:18.060628015Z"
    }
   }
  },
  {
   "cell_type": "code",
   "execution_count": 2,
   "outputs": [
    {
     "name": "stdout",
     "output_type": "stream",
     "text": [
      "Energies: [0.99314266 0.00685734], sum: 1.0, S: [9.94340494 0.82624201]\n",
      "PSA success!\n"
     ]
    }
   ],
   "source": [
    "with open(\"pca_dataset.txt\", 'r') as file:\n",
    "    # TODO plot\n",
    "    \n",
    "    # Load data inta a Python ndarray, shape (100, 2)\n",
    "    global data_matrix\n",
    "    data_matrix = np.loadtxt(file, delimiter=' ')\n",
    "    \n",
    "    U, S, Vh, E = psa.pca(data_matrix)\n",
    "    \n",
    "    print(f'Energies: {str(E)}, sum: {np.sum(E)}, S: {S}')\n",
    "    \n",
    "    # reverse PSA\n",
    "    data_matrix_reversed = psa.reverse_pca(U, S, Vh)\n",
    "    \n",
    "    # Before and after: Works nicely!\n",
    "    display_side_by_side = False\n",
    "    \n",
    "    if display_side_by_side:\n",
    "        for o, r in zip(data_matrix-data_matrix.mean(axis=0), data_matrix_reversed):\n",
    "            print(f'o: {o}, r: {r}')\n",
    "    \n",
    "    assert np.allclose(data_matrix-data_matrix.mean(axis=0), data_matrix_reversed)\n",
    "    print(\"PSA success!\")\n",
    "    "
   ],
   "metadata": {
    "collapsed": false,
    "ExecuteTime": {
     "end_time": "2023-11-20T00:35:18.115956825Z",
     "start_time": "2023-11-20T00:35:18.092873169Z"
    }
   }
  },
  {
   "cell_type": "markdown",
   "source": [
    "# Test\n",
    "\n"
   ],
   "metadata": {
    "collapsed": false
   }
  }
 ],
 "metadata": {
  "kernelspec": {
   "display_name": "MLCMS_GroupI",
   "language": "python",
   "name": "python3"
  },
  "language_info": {
   "codemirror_mode": {
    "name": "ipython",
    "version": 3
   },
   "file_extension": ".py",
   "mimetype": "text/x-python",
   "name": "python",
   "nbconvert_exporter": "python",
   "pygments_lexer": "ipython3",
   "version": "3.10.13"
  }
 },
 "nbformat": 4,
 "nbformat_minor": 2
}
