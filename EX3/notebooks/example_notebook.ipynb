{
 "cells": [
  {
   "cell_type": "markdown",
   "metadata": {},
   "source": [
    "# Example Notebook\n",
    "\n",
    "This notebook serves to show how to create a notebook in the current directory structure.\n",
    "\n",
    "Simply, after importing `init_notebook` the user can both import the `test_module` and its `test_function`, located in the `src` directory. Finally, it also becomes possible to open files in the `data` folder directly. All paths are relative to this directory so it is also possible to directly save a file to it."
   ]
  },
  {
   "cell_type": "code",
   "execution_count": 5,
   "outputs": [
    {
     "name": "stdout",
     "output_type": "stream",
     "text": [
      "I was imported!\n"
     ]
    }
   ],
   "source": [
    "import init_notebook\n",
    "from test_module import test_function\n",
    "import psa\n",
    "\n",
    "import numpy as np\n",
    "\n",
    "test_function()"
   ],
   "metadata": {
    "collapsed": false,
    "ExecuteTime": {
     "end_time": "2023-11-19T18:23:10.724914976Z",
     "start_time": "2023-11-19T18:23:10.639337392Z"
    }
   }
  },
  {
   "cell_type": "code",
   "execution_count": 6,
   "metadata": {
    "ExecuteTime": {
     "end_time": "2023-11-19T18:23:10.726168504Z",
     "start_time": "2023-11-19T18:23:10.685893019Z"
    }
   },
   "outputs": [
    {
     "name": "stdout",
     "output_type": "stream",
     "text": [
      "Energies: [0.99314266 0.00685734], sum: 1.0\n"
     ]
    }
   ],
   "source": [
    "with open(\"pca_dataset.txt\", 'r') as file:\n",
    "    # TODO plot\n",
    "    \n",
    "    # Load data inta a Python ndarray, shape (100, 2)\n",
    "    data_matrix = np.loadtxt(file, delimiter=' ')\n",
    "    \n",
    "    U, S, V, E = psa.pca(data_matrix)\n",
    "    \n",
    "    print(f'Energies: {str(E)}, sum: {np.sum(E)}')"
   ]
  }
 ],
 "metadata": {
  "kernelspec": {
   "display_name": "MLCMS_GroupI",
   "language": "python",
   "name": "python3"
  },
  "language_info": {
   "codemirror_mode": {
    "name": "ipython",
    "version": 3
   },
   "file_extension": ".py",
   "mimetype": "text/x-python",
   "name": "python",
   "nbconvert_exporter": "python",
   "pygments_lexer": "ipython3",
   "version": "3.10.13"
  }
 },
 "nbformat": 4,
 "nbformat_minor": 2
}
