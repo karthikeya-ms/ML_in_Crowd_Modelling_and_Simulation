{
 "cells": [
  {
   "cell_type": "markdown",
   "metadata": {},
   "source": [
    "# Example Notebook\n",
    "\n",
    "This notebook serves to show how to create a notebook in the current directory structure.\n",
    "\n",
    "Simply, after importing `init_notebook` the user can both import the `test_module` and its `test_function`, located in the `src` directory. Finally, it also becomes possible to open files in the `data` folder directly. All paths are relative to this directory so it is also possible to directly save a file to it."
   ]
  },
  {
   "cell_type": "code",
   "execution_count": 1,
   "metadata": {
    "ExecuteTime": {
     "end_time": "2023-11-21T17:41:36.133271787Z",
     "start_time": "2023-11-21T17:41:36.030064634Z"
    },
    "collapsed": false
   },
   "outputs": [
    {
     "name": "stdout",
     "output_type": "stream",
     "text": [
      "I was imported!\n"
     ]
    }
   ],
   "source": [
    "import init_notebook\n",
    "from test_module import test_function\n",
    "import pca\n",
    "from pca import PCAResult\n",
    "\n",
    "import numpy as np\n",
    "\n",
    "test_function()"
   ]
  },
  {
   "cell_type": "code",
   "execution_count": 2,
   "metadata": {
    "ExecuteTime": {
     "end_time": "2023-11-21T17:41:36.135055560Z",
     "start_time": "2023-11-21T17:41:36.075184256Z"
    },
    "collapsed": false
   },
   "outputs": [
    {
     "name": "stdout",
     "output_type": "stream",
     "text": [
      "Energies: [0.99314266 0.00685734], sum: 1.0, S: [9.94340494 0.82624201]\n",
      "PCA success!\n"
     ]
    }
   ],
   "source": [
    "with open(\"pca_dataset.txt\", 'r') as file:\n",
    "    # TODO plot\n",
    "    \n",
    "    # Load data inta a Python ndarray, shape (100, 2)\n",
    "    global data_matrix\n",
    "    data_matrix = np.loadtxt(file, delimiter=' ')\n",
    "    \n",
    "    global pca_result\n",
    "    pca_result = pca.pca(data_matrix)\n",
    "    U, S, Vh, E = pca_result.U, pca_result.S, pca_result.Vh, pca_result.energy\n",
    "    \n",
    "    print(f'Energies: {str(E)}, sum: {np.sum(E)}, S: {S}')\n",
    "    \n",
    "    # reverse PSA\n",
    "    data_matrix_reversed = pca_result.reverse_pca()\n",
    "    \n",
    "    # Before and after: Works nicely!\n",
    "    display_side_by_side = False\n",
    "    if display_side_by_side:\n",
    "        for o, r in zip(data_matrix-data_matrix.mean(axis=0), data_matrix_reversed):\n",
    "            print(f'o: {o}, r: {r}')\n",
    "    \n",
    "    assert np.allclose(data_matrix-data_matrix.mean(axis=0), data_matrix_reversed)\n",
    "    \n",
    "    print(\"PCA success!\")\n",
    "    "
   ]
  },
  {
   "cell_type": "markdown",
   "metadata": {
    "collapsed": false
   },
   "source": [
    "#Test\n"
   ]
  },
  {
   "cell_type": "code",
   "execution_count": 3,
   "metadata": {},
   "outputs": [
    {
     "ename": "NameError",
     "evalue": "name 'load_data' is not defined",
     "output_type": "error",
     "traceback": [
      "\u001b[1;31m---------------------------------------------------------------------------\u001b[0m",
      "\u001b[1;31mNameError\u001b[0m                                 Traceback (most recent call last)",
      "\u001b[1;32mc:\\Users\\Amgad Al-Zamkan\\IdeaProjects\\ML-CS_Group_I\\EX3\\notebooks\\example_notebook.ipynb Cell 5\u001b[0m line \u001b[0;36m2\n\u001b[0;32m      <a href='vscode-notebook-cell:/c%3A/Users/Amgad%20Al-Zamkan/IdeaProjects/ML-CS_Group_I/EX3/notebooks/example_notebook.ipynb#X12sZmlsZQ%3D%3D?line=0'>1</a>\u001b[0m filepath \u001b[39m=\u001b[39m \u001b[39m'\u001b[39m\u001b[39mpca_dataset.txt\u001b[39m\u001b[39m'\u001b[39m  \n\u001b[1;32m----> <a href='vscode-notebook-cell:/c%3A/Users/Amgad%20Al-Zamkan/IdeaProjects/ML-CS_Group_I/EX3/notebooks/example_notebook.ipynb#X12sZmlsZQ%3D%3D?line=1'>2</a>\u001b[0m data \u001b[39m=\u001b[39m load_data(filepath)\n\u001b[0;32m      <a href='vscode-notebook-cell:/c%3A/Users/Amgad%20Al-Zamkan/IdeaProjects/ML-CS_Group_I/EX3/notebooks/example_notebook.ipynb#X12sZmlsZQ%3D%3D?line=2'>3</a>\u001b[0m data_centered \u001b[39m=\u001b[39m center_data(data)\n\u001b[0;32m      <a href='vscode-notebook-cell:/c%3A/Users/Amgad%20Al-Zamkan/IdeaProjects/ML-CS_Group_I/EX3/notebooks/example_notebook.ipynb#X12sZmlsZQ%3D%3D?line=3'>4</a>\u001b[0m U, S, Vt \u001b[39m=\u001b[39m perform_pca(data_centered)\n",
      "\u001b[1;31mNameError\u001b[0m: name 'load_data' is not defined"
     ]
    }
   ],
   "source": [
    "filepath = 'pca_dataset.txt'  \n",
    "data = load_data(filepath)\n",
    "data_centered = center_data(data)\n",
    "U, S, Vt = perform_pca(data_centered)\n",
    "plot_data_with_pcs(data_centered, Vt)"
   ]
  }
 ],
 "metadata": {
  "kernelspec": {
   "display_name": "MLCMS_GroupI",
   "language": "python",
   "name": "python3"
  },
  "language_info": {
   "codemirror_mode": {
    "name": "ipython",
    "version": 3
   },
   "file_extension": ".py",
   "mimetype": "text/x-python",
   "name": "python",
   "nbconvert_exporter": "python",
   "pygments_lexer": "ipython3",
   "version": "3.10.13"
  }
 },
 "nbformat": 4,
 "nbformat_minor": 2
}
