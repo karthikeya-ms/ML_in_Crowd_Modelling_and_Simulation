{
 "cells": [
  {
   "cell_type": "markdown",
   "id": "13ac2d9a2816c7f5",
   "metadata": {},
   "source": [
    "# Example Notebook\n",
    "\n",
    "This notebook serves to show how to create a notebook in the current directory structure.\n",
    "\n",
    "Simply, after importing `init_notebook` the user can both import the `test_module` and its `test_function`, located in the `src` directory. Finally, it also becomes possible to open files in the `data` folder directly. All paths are relative to this directory so it is also possible to directly save a file to it."
   ]
  },
  {
   "cell_type": "code",
   "execution_count": null,
   "id": "418505379a50fd92",
   "metadata": {},
   "outputs": [],
   "source": [
    "import init_notebook\n",
    "from test_module import test_function\n",
    "\n",
    "test_function()"
   ]
  }
 ],
 "metadata": {
  "kernelspec": {
   "display_name": "Python 3",
   "language": "python",
   "name": "python3"
  },
  "language_info": {
   "codemirror_mode": {
    "name": "ipython",
    "version": 3
   },
   "file_extension": ".py",
   "mimetype": "text/x-python",
   "name": "python",
   "nbconvert_exporter": "python",
   "pygments_lexer": "ipython3"
  }
 },
 "nbformat": 4,
 "nbformat_minor": 5
}
