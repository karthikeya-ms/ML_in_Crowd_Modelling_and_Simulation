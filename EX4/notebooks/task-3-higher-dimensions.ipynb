{
 "cells": [
  {
   "cell_type": "code",
   "execution_count": null,
   "id": "418505379a50fd92",
   "metadata": {},
   "outputs": [],
   "source": [
    "import init_notebook\n",
    "import numpy as np\n",
    "# our plt\n",
    "import matplotlib.pyplot as plt\n",
    "from mpl_toolkits.mplot3d import Axes3D\n",
    "import task3_utils as utils"
   ]
  },
  {
   "cell_type": "markdown",
   "id": "bfdf22aa71cce324",
   "metadata": {},
   "source": [
    "# Andronov-Hopf bifurcation\n",
    "\n",
    "In general, we characterize a real paramertrized dynamical system through a differential equation $\\dot{x} = f(x, \\alpha)$ with $f: \\mathbb{R}^n \\times \\mathbb{R} \\to \\mathbb{R}^n$ sufficiently smooth in the first argument.\n",
    "\n",
    "Here, $n=2$, and we have the Andronov-Hopf system:\n",
    "\n",
    "$$\\dot{x} = \\begin{pmatrix} \\dot{x}_1 \\\\ \\dot{x}_2 \\end{pmatrix}  = \\begin{pmatrix} \\alpha x_1 - x_2 - x_1\\,(x_1^2 + x_2^2) \\\\ x_1 + \\alpha x_2 - x_2\\,(x_1^2 + x_2^2) \\end{pmatrix}$$\n",
    "\n",
    "In polar coordinates:\n",
    "$$\\begin{case}\\dot{\\rho} &= \\rho(\\alpha - \\rho^2) \\\\ \\dot{\\varphi} &= 1\\end{case}$$\n",
    "\n",
    "Since polar coordinates are a diffeomorphism, we can use the transformed system to study the original system - although caution is important since the transformed system is not defined at the origin.\n",
    "\n",
    "The only equilibrium is $x_0 = 0$.\n",
    "\n",
    "It is clear that for $\\alpha \\le 0$, the origin is a _stable focus_, drawing all trajectories towards it.\n",
    "\n",
    "For $\\alpha > 0$, the origin is an _unstable focus_, with a stable orbit $\\rho_0 = \\sqrt{\\alpha}$.\n",
    "$$\\text{sign}(\\dot{\\rho}) = \\begin{cases}1 &\\qquad \\rho < \\rho_0 \\\\ 0 &\\qquad \\rho=\\rho_0 \\\\ -1 &\\qquad \\rho > \\rho_0 \\end{cases}\\\\$$\n",
    "\n",
    "Since the topology around the equilibrium changes under the sign of $\\alpha$, we have a bifurcation at $\\alpha = 0$.\n",
    "\n",
    "# Part 1: Plotting the phase portrait"
   ]
  },
  {
   "cell_type": "code",
   "execution_count": null,
   "id": "fb9239e03b0385ba",
   "metadata": {},
   "outputs": [],
   "source": [
    "# phase diagrams for different values of alpha\n",
    "\n",
    "utils.plot_phase_diagram(0, [-2, 2])\n",
    "utils.plot_phase_diagram(1, [-2, 2])\n",
    "utils.plot_phase_diagram(1.5, [-2, 2])"
   ]
  },
  {
   "cell_type": "markdown",
   "id": "dd40568454ef6918",
   "metadata": {},
   "source": [
    "# Part 2: Computing two orbits numerically\n",
    "\n",
    "We set $\\alpha = 1.5$, resulting in a stable orbit $\\rho_0 = 1$.\n",
    "\n",
    "Given two points $p_1 = (2,0)$ and $p_2 = (0.5, 0)$, we compute the orbits $\\gamma_1$ and $\\gamma_2$ starting at $p_1$ and $p_2$ respectively.\n",
    "\n",
    "We use the Euler method with step size $\\Delta t = 0.01$, which is a first-order (in $\\Delta t$) approximation of the solution of the differential equation:\n",
    "\n",
    "$$x(t+\\Delta t) = x(t) + \\Delta t \\, \\dot{x}(t) + \\mathcal{O}(\\Delta t^2)$$"
   ]
  },
  {
   "cell_type": "code",
   "execution_count": null,
   "id": "72f846fcde8e6fd4",
   "metadata": {},
   "outputs": [],
   "source": [
    "# compute the orbits\n",
    "utils.plot_phase_diagram(1, [-2.2, 2.2], 1000, np.array([2, 0]))\n",
    "utils.plot_phase_diagram(1, [-1.25, 1.25], 1000, np.array([0.5, 0]))"
   ]
  },
  {
   "cell_type": "markdown",
   "id": "e0e9d57d68fdf839",
   "metadata": {},
   "source": [
    "# Part 3: Cusp bifurcation\n",
    "\n",
    "Consider the dynamical system\n",
    "\n",
    "$$\\dot{x} = \\alpha_1 + \\alpha_2 x - x^3$$\n",
    "\n",
    "with $\\alpha \\in \\mathbb{R}^2$.\n",
    "\n",
    "We plot the bifurcation surface $(x, \\alpha_1, \\alpha_2)\\in \\mathbb{R}^3$ such that $\\dot{x} = 0$\n",
    "\n",
    "The bifurcation surface is thus given by the formula\n",
    "\n",
    "$$S = \\{(x, x\\,(x^2-\\alpha_2), \\alpha_2)\\}\\,|\\, (x,\\alpha_2) \\in \\mathbb{R}^2\\}$$"
   ]
  },
  {
   "cell_type": "code",
   "execution_count": null,
   "id": "ab7490d6ca9d9166",
   "metadata": {},
   "outputs": [],
   "source": [
    "fig, ax = utils.plot_cusp_surface()"
   ]
  },
  {
   "cell_type": "code",
   "execution_count": null,
   "id": "bd6c72d5460ab458",
   "metadata": {},
   "outputs": [],
   "source": [
    "ax.view_init(20, 50)\n",
    "fig"
   ]
  }
 ],
 "metadata": {
  "kernelspec": {
   "display_name": "Python 3 (ipykernel)",
   "language": "python",
   "name": "python3"
  },
  "language_info": {
   "codemirror_mode": {
    "name": "ipython",
    "version": 3
   },
   "file_extension": ".py",
   "mimetype": "text/x-python",
   "name": "python",
   "nbconvert_exporter": "python",
   "pygments_lexer": "ipython3"
  }
 },
 "nbformat": 4,
 "nbformat_minor": 5
}
