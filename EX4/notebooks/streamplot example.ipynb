{
 "cells": [
  {
   "cell_type": "code",
   "execution_count": null,
   "metadata": {},
   "outputs": [],
   "source": [
    "# example adapted from\n",
    "# https://matplotlib.org/stable/gallery/images_contours_and_fields/plot_streamplot.html\n",
    "import numpy as np\n",
    "import matplotlib.pyplot as plt\n",
    "import matplotlib.gridspec as gridspec\n",
    "\n",
    "from utils import *\n",
    "\n",
    "%load_ext autoreload\n",
    "%autoreload 2"
   ]
  },
  {
   "cell_type": "code",
   "execution_count": null,
   "metadata": {},
   "outputs": [],
   "source": [
    "# define notebook parameters\n",
    "w = 3\n",
    "Y, X = np.mgrid[-w:w:100j, -w:w:100j]\n",
    "\n",
    "# example matrix\n",
    "A = np.array([\n",
    "    [-1, -2],\n",
    "    [3, -4]\n",
    "])"
   ]
  },
  {
   "cell_type": "code",
   "execution_count": null,
   "metadata": {},
   "outputs": [],
   "source": [
    "# example for Euler's method to construct and plot a trajectory over the stream plot\n",
    "y0 = np.array([3, 3])\n",
    "time = np.linspace(0, 10, 100)\n",
    "yt, time = solve_euler(lambda y: A@y, y0, time)\n",
    "\n",
    "# example linear vector field A*x\n",
    "ax0 = plot_phase_portrait(A, X, Y)\n",
    "\n",
    "# then plot the trajectory over it\n",
    "ax0.plot(yt[:, 0], yt[:, 1], c='red', label='Example trajectory')\n",
    "\n",
    "# prettify\n",
    "ax0.legend()\n",
    "ax0.set_aspect(1)"
   ]
  },
  {
   "cell_type": "code",
   "execution_count": null,
   "metadata": {},
   "outputs": [],
   "source": []
  }
 ],
 "metadata": {
  "kernelspec": {
   "display_name": "datafold",
   "language": "python",
   "name": "datafold"
  },
  "language_info": {
   "codemirror_mode": {
    "name": "ipython",
    "version": 3
   },
   "file_extension": ".py",
   "mimetype": "text/x-python",
   "name": "python",
   "nbconvert_exporter": "python",
   "pygments_lexer": "ipython3"
  }
 },
 "nbformat": 4,
 "nbformat_minor": 4
}
