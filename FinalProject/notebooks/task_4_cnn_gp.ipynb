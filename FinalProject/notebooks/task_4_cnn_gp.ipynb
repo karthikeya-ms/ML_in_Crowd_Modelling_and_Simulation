{
 "cells": [
  {
   "cell_type": "code",
   "execution_count": null,
   "metadata": {},
   "outputs": [],
   "source": [
    "import init_notebook"
   ]
  },
  {
   "cell_type": "code",
   "execution_count": null,
   "metadata": {},
   "outputs": [],
   "source": [
    "import jax.numpy as jnp\n",
    "from jax import random\n",
    "from jax import jit, grad\n",
    "import neural_tangents as nt\n",
    "from neural_tangents import stax\n",
    "import numpy as np\n",
    "from tensorflow import keras\n",
    "from keras.datasets import mnist\n",
    "import seaborn as sns\n",
    "import pandas as pd\n",
    "import seaborn as sns\n",
    "import matplotlib.pyplot as plt\n",
    "from visualizations.evaluation import plot_confusion_matrix, plot_classification_metric_summary\n",
    "from evaluation.model_evaluation import get_classification_metric_summary\n",
    "from models.convolutional_neural_networks.cnn_gp import get_cnn_model\n",
    "\n",
    "key = random.PRNGKey(10)"
   ]
  },
  {
   "cell_type": "code",
   "execution_count": null,
   "metadata": {},
   "outputs": [],
   "source": [
    "(x_train, y_train), (x_test, y_test) = mnist.load_data()\n",
    "\n",
    "\n",
    "#######################################################################################\n",
    "\n",
    "x_train = x_train/255\n",
    "x_test = x_test/255\n",
    "\n",
    "y_train = keras.utils.to_categorical(y_train, num_classes=10)\n",
    "\n",
    "\n",
    "cnn_model = get_cnn_model()\n",
    "cnn_model.compile(optimizer='Adam', loss='categorical_crossentropy', metrics=['accuracy'])\n",
    "cnn_model.summary()\n",
    "\n",
    "\n",
    "# Training loop\n",
    "for epoch in range(10):\n",
    "    history = cnn_model.fit(x_train, y_train, batch_size=1000, epochs=1, validation_split=0.2, verbose=2)\n",
    "\n",
    "    \n",
    "#######################################################################################"
   ]
  },
  {
   "cell_type": "code",
   "execution_count": null,
   "metadata": {},
   "outputs": [],
   "source": [
    "y_test_pred_class = cnn_model.predict(x_test)\n",
    "y_test_pred_class = np.argmax(y_test_pred_class, axis=-1)\n",
    "\n",
    "\n",
    "\n",
    "plot_confusion_matrix(y_test, y_test_pred_class,\"Confusion matrix for MNIST dataset using CNNs\" )\n",
    "\n",
    "class_metrics, accuracy = get_classification_metric_summary(y_test, y_test_pred_class)\n",
    "plot_classification_metric_summary(class_metrics, f\"MNIST Class Classification Metrics for Test Set (MLP) (Accuracy = {accuracy:.2f}) \")"
   ]
  }
 ],
 "metadata": {
  "kernelspec": {
   "display_name": "base",
   "language": "python",
   "name": "python3"
  },
  "language_info": {
   "codemirror_mode": {
    "name": "ipython",
    "version": 3
   },
   "file_extension": ".py",
   "mimetype": "text/x-python",
   "name": "python",
   "nbconvert_exporter": "python",
   "pygments_lexer": "ipython3",
   "version": "3.11.5"
  }
 },
 "nbformat": 4,
 "nbformat_minor": 2
}
