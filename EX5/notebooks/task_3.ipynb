{
 "cells": [
  {
   "cell_type": "code",
   "execution_count": null,
   "metadata": {},
   "outputs": [],
   "source": [
    "import init_notebook\n",
    "from test_module import test_function\n",
    "\n",
    "test_function()"
   ]
  },
  {
   "cell_type": "code",
   "execution_count": null,
   "metadata": {},
   "outputs": [],
   "source": [
    "from task3_utils import read_vectorfield_data, estimate_vectors, solve_trajectory, create_phase_portrait_matrix, create_phase_portrait_derivative, find_best_rbf_configuration\n",
    "from task3_utils import approx_lin_func, approx_nonlin_func, plot_func_over_data,  get_points_and_targets, compute_bases, linear_approx, rbf_approx\n",
    "import matplotlib.pyplot as plt\n",
    "from scipy.integrate import solve_ivp\n",
    "from scipy.spatial.distance import cdist\n",
    "import numpy as np\n",
    "import math"
   ]
  },
  {
   "cell_type": "code",
   "execution_count": null,
   "metadata": {},
   "outputs": [],
   "source": [
    "# read the vector field data\n",
    "x0, x1 = read_vectorfield_data(base_filename=\"nonlinear_vectorfield_data\")\n",
    "fig, ax = plt.subplots(1,1,figsize=(6,6))\n",
    "ax.scatter(x0[:,0], x0[:,1], s=1, color='green')\n",
    "ax.scatter(x1[:,0], x1[:,1], s=1, color='orange')\n",
    "ax.set_title(\"nonlinear_vectorfield_data\")\n",
    "plt.show()"
   ]
  },
  {
   "cell_type": "markdown",
   "metadata": {},
   "source": [
    "# Part 1: Linear approximation of the vector vector field"
   ]
  },
  {
   "cell_type": "code",
   "execution_count": null,
   "metadata": {},
   "outputs": [],
   "source": [
    "##Part 1\n",
    "# utilize delta_t, find delta_t giving lowest possible mse\n",
    "dt = 0.1\n",
    "end_time=0.5\n",
    "\n",
    "plt.rcParams[\"figure.figsize\"] = (14,14)\n",
    "v = estimate_vectors(dt, x0, x1)\n",
    "A, res, _, _ = approx_lin_func(data=(x0,v))\n",
    "print(\"Residual error:\",res)\n",
    "x1_pred, best_dt, best_mse = solve_trajectory(x0, x1, linear_approx, args=[A], find_best_dt=True, end_time=end_time, plot=False)\n",
    "print(f\"MSE value at {end_time} is: {np.linalg.norm(x1_pred-x1)**2 / x1.shape[0]}\\n Best MSE value is found at time {best_dt} with MSE: {best_mse}\")\n"
   ]
  },
  {
   "cell_type": "code",
   "execution_count": null,
   "metadata": {},
   "outputs": [],
   "source": [
    "# utilize best delta_t, plot results\n",
    "dt = 0.1\n",
    "end_time=best_dt\n",
    "plt.rcParams[\"figure.figsize\"] = (8,8)\n",
    "v = estimate_vectors(dt, x0, x1)\n",
    "A, res, _, _ = approx_lin_func(data=(x0,v))\n",
    "print(\"Residual error:\",res)\n",
    "x1_pred, _, _ = solve_trajectory(x0, x1, linear_approx, args=[A], find_best_dt=False, end_time=end_time, plot=False)\n",
    "plt.scatter([el[0] for el in x1_pred], [el[1] for el in x1_pred], c='orange', s=10, label='prediction')\n",
    "plt.scatter(x1[:,0], x1[:,1], c='blue', s=10, label='ground_truth')\n",
    "plt.legend()\n",
    "plt.show()\n",
    "print(f\"MSE value at {end_time} is: {np.mean(np.linalg.norm(x1_pred-x1, axis=1)**2)}\")"
   ]
  },
  {
   "cell_type": "code",
   "execution_count": null,
   "metadata": {},
   "outputs": [],
   "source": [
    "create_phase_portrait_matrix(A, title_suffix=\"stable node\", display=False)"
   ]
  },
  {
   "cell_type": "markdown",
   "metadata": {},
   "source": [
    "# Part 2: Non-linear approximation fo the vector field using Radial basis functions"
   ]
  },
  {
   "cell_type": "code",
   "execution_count": null,
   "metadata": {},
   "outputs": [],
   "source": [
    "#Part 2\n",
    "# find best configuration\n",
    "final_best_mse, eps, n_bases, final_best_dt, centers = find_best_rbf_configuration(x0,x1)"
   ]
  },
  {
   "cell_type": "code",
   "execution_count": null,
   "metadata": {},
   "outputs": [],
   "source": [
    "# utilize best delta_t, plot results\n",
    "dt = 0.1\n",
    "end_time=final_best_dt\n",
    "plt.rcParams[\"figure.figsize\"] = (8,8)\n",
    "v = estimate_vectors(dt, x0, x1)\n",
    "C, res, _, _, _, eps, phi = approx_nonlin_func(data=(x0,v), n_bases=n_bases, eps=eps, centers=centers)\n",
    "print(\"Residual error:\",res)\n",
    "x1_pred, _, _ = solve_trajectory(x0, x1, rbf_approx, find_best_dt=False, end_time=end_time, args=[centers, eps, C], plot=False)\n",
    "plt.scatter([el[0] for el in x1_pred], [el[1] for el in x1_pred], c='orange', s=10, label='prediction')\n",
    "plt.scatter(x1[:,0], x1[:,1], c='blue', s=10, label='ground_truth')\n",
    "plt.legend()\n",
    "plt.show()"
   ]
  },
  {
   "cell_type": "code",
   "execution_count": null,
   "metadata": {},
   "outputs": [],
   "source": [
    "# show phase portrait for best configuration\n",
    "create_phase_portrait_derivative(rbf_approx, args=[centers, eps, C], title_suffix=\"non linear approx phase portrait\", display=False)\n"
   ]
  },
  {
   "cell_type": "markdown",
   "metadata": {},
   "source": [
    "# Part 3: Solving for a larger time"
   ]
  },
  {
   "cell_type": "code",
   "execution_count": null,
   "metadata": {},
   "outputs": [],
   "source": [
    "#Part3\n",
    "\n",
    "end_time = 50\n",
    "plt.title(\"non linear approximation steady states\")\n",
    "for i in range(len(x0)):\n",
    "    sol = solve_ivp(rbf_approx, [0, end_time],  x0[i], args=[centers, eps, C])\n",
    "    plt.scatter(sol.y[0,-1], sol.y[1,-1])\n",
    "plt.xlim(-4.5, 4.5)\n",
    "plt.ylim(-4.5, 4.5)\n",
    "plt.show()"
   ]
  }
 ],
 "metadata": {
  "kernelspec": {
   "display_name": "MLCMS_GroupI_EX5",
   "language": "python",
   "name": "python3"
  },
  "language_info": {
   "codemirror_mode": {
    "name": "ipython",
    "version": 3
   },
   "file_extension": ".py",
   "mimetype": "text/x-python",
   "name": "python",
   "nbconvert_exporter": "python",
   "pygments_lexer": "ipython3",
   "version": "3.11.7"
  }
 },
 "nbformat": 4,
 "nbformat_minor": 2
}
